{
 "cells": [
  {
   "cell_type": "markdown",
   "metadata": {},
   "source": [
    "# Coursework 2: Neural Networks \n",
    "\n",
    "This coursework covers the topics covered in class regarding neural networks for image classification.\n",
    "\n",
    "This coursework includes both coding questions as well as written ones. Please upload the notebook, which contains your code, results and answers as a pdf file onto Cate.\n",
    "\n",
    "Dependencies: If you work on a college computer in the Computing Lab, where Ubuntu 18.04 is installed by default, you can use the following virtual environment for your work, where relevant Python packages are already installed.\n",
    "\n",
    "`source /vol/bitbucket/wbai/virt/computer_vision_ubuntu18.04/bin/activate`\n",
    "\n",
    "Alternatively, you can use pip, pip3 or anaconda etc to install Python packages.\n",
    "\n",
    "**Note:** please read the both the text and code comment in this notebook to get an idea what you are supposed to implement.\n",
    "\n",
    "**Note 2** If you are using the virtual environment please run the following command before importing tensorflow\n",
    "\n",
    "`export LD_LIBRARY_PATH=/vol/cuda/9.0.176/lib64/:\"${LD_LIBRARY_PATH}}\"` "
   ]
  },
  {
   "cell_type": "code",
   "execution_count": 1,
   "metadata": {},
   "outputs": [
    {
     "name": "stderr",
     "output_type": "stream",
     "text": [
      "Using TensorFlow backend.\n"
     ]
    }
   ],
   "source": [
    "# Import libraries\n",
    "import numpy as np \n",
    "import matplotlib.pyplot as plt\n",
    "%matplotlib inline\n",
    "import tensorflow as tf \n",
    "import keras\n",
    "from keras.models import Sequential\n",
    "from keras.layers import Dense, Dropout"
   ]
  },
  {
   "cell_type": "markdown",
   "metadata": {},
   "source": [
    "## Question 1 (20 points)\n",
    "\n",
    "Throughout this coursework you will be working with the Fashion-MNIST dataset. If you are interested, you may find relevant information regarding the dataset in this paper.\n",
    "\n",
    "[1] Fashion-MNIST: A novel image dataset for benchmarking machine learning algorithms. Han Xiao, Kashif Rasul, Roland Vollgraf. [arXiv:1708.07747](https://arxiv.org/abs/1708.07747)\n",
    "\n",
    "Be sure that you have the following files in your working directory: data.tar.gz and reader.py. Loading the data can be done as follows:\n",
    "\n",
    "`from reader import get_images\n",
    "(x_train, y_train), (x_test, y_test) = get_images()`\n",
    "\n",
    "The dataset is already split into a set of 60,000 training images and a set of 10,000 test images. The images are of size 28x28 pixels and stored as 784-D vector. So if you would like to visualise the images, you need to reshape the array.\n",
    "\n",
    "There are in total 10 label classes, which are:\n",
    "* 0: T-shirt/top\n",
    "* 1: Trousers\n",
    "* 2: Pullover\n",
    "* 3: Dress\n",
    "* 4: Coat\n",
    "* 5: Sandal\n",
    "* 6: Shirt\n",
    "* 7: Sneaker\n",
    "* 8: Bag\n",
    "* 9: Ankle boot"
   ]
  },
  {
   "cell_type": "markdown",
   "metadata": {},
   "source": [
    "### 1.1 Load data (6 points)\n",
    "Load the dataset and print the dimensions of the training set and the test set."
   ]
  },
  {
   "cell_type": "code",
   "execution_count": 2,
   "metadata": {},
   "outputs": [
    {
     "name": "stdout",
     "output_type": "stream",
     "text": [
      "(60000, 784)\n",
      "(60000,)\n",
      "(10000, 784)\n",
      "(10000,)\n"
     ]
    },
    {
     "name": "stderr",
     "output_type": "stream",
     "text": [
      "/homes/sc6918/computer_vision/cw2/cv_cw2/reader.py:38: FutureWarning: Method .as_matrix will be removed in a future version. Use .values instead.\n",
      "  x_train = df_train.drop('label', axis=1).as_matrix().astype(np.uint8)\n",
      "/homes/sc6918/computer_vision/cw2/cv_cw2/reader.py:39: FutureWarning: Method .as_matrix will be removed in a future version. Use .values instead.\n",
      "  y_train = df_train['label'].as_matrix().astype(np.uint8)\n",
      "/homes/sc6918/computer_vision/cw2/cv_cw2/reader.py:40: FutureWarning: Method .as_matrix will be removed in a future version. Use .values instead.\n",
      "  x_test = df_test.drop('label', axis=1).as_matrix().astype(np.uint8)\n",
      "/homes/sc6918/computer_vision/cw2/cv_cw2/reader.py:41: FutureWarning: Method .as_matrix will be removed in a future version. Use .values instead.\n",
      "  y_test = df_test['label'].as_matrix().astype(np.uint8)\n"
     ]
    }
   ],
   "source": [
    "from reader import get_images\n",
    "(x_train, y_train), (x_test, y_test) = get_images()\n",
    "print(x_train.shape)\n",
    "print(y_train.shape)\n",
    "print(x_test.shape)\n",
    "print(y_test.shape)"
   ]
  },
  {
   "cell_type": "markdown",
   "metadata": {},
   "source": [
    "### 1.2 Visualize data (6 points)\n",
    "Visualise 3 training images (T-shirt, trousers and pullover) and 3 test images (dress, coat and sandal)."
   ]
  },
  {
   "cell_type": "code",
   "execution_count": 3,
   "metadata": {},
   "outputs": [
    {
     "data": {
      "text/plain": [
       "<Figure size 432x288 with 0 Axes>"
      ]
     },
     "execution_count": 3,
     "metadata": {},
     "output_type": "execute_result"
    },
    {
     "data": {
      "image/png": "[encoded data removed]",
      "text/plain": [
       "<Figure size 432x288 with 1 Axes>"
      ]
     },
     "metadata": {
      "needs_background": "light"
     },
     "output_type": "display_data"
    },
    {
     "data": {
      "image/png": "[encoded data removed]",
      "text/plain": [
       "<Figure size 432x288 with 1 Axes>"
      ]
     },
     "metadata": {
      "needs_background": "light"
     },
     "output_type": "display_data"
    },
    {
     "data": {
      "image/png": "[encoded data removed]",
      "text/plain": [
       "<Figure size 432x288 with 1 Axes>"
      ]
     },
     "metadata": {
      "needs_background": "light"
     },
     "output_type": "display_data"
    },
    {
     "data": {
      "text/plain": [
       "<Figure size 432x288 with 0 Axes>"
      ]
     },
     "metadata": {},
     "output_type": "display_data"
    }
   ],
   "source": [
    "n_tshirt=np.argwhere(y_train==0)[0]\n",
    "n_trousers=np.argwhere(y_train==1)[0]\n",
    "n_pullover=np.argwhere(y_train==2)[0]\n",
    "\n",
    "img_tshirt = x_train[n_tshirt]\n",
    "plt.imshow(np.reshape(img_tshirt,(28,28)))\n",
    "plt.figure()\n",
    "img_trousers = x_train[n_trousers]\n",
    "plt.imshow(np.reshape(img_trousers,(28,28)))\n",
    "plt.figure()\n",
    "img_pullover = x_train[n_pullover]\n",
    "plt.imshow(np.reshape(img_pullover,(28,28)))\n",
    "plt.figure()"
   ]
  },
  {
   "cell_type": "markdown",
   "metadata": {},
   "source": [
    "### 1.3 Data balance (4 points)\n",
    "Print out the number of training samples for each class."
   ]
  },
  {
   "cell_type": "code",
   "execution_count": 4,
   "metadata": {},
   "outputs": [
    {
     "data": {
      "text/plain": [
       "Text(0.5, 1.0, 'Histogram of class balance')"
      ]
     },
     "execution_count": 4,
     "metadata": {},
     "output_type": "execute_result"
    },
    {
     "data": {
      "image/png": "[encoded data removed]",
      "text/plain": [
       "<Figure size 432x288 with 1 Axes>"
      ]
     },
     "metadata": {
      "needs_background": "light"
     },
     "output_type": "display_data"
    }
   ],
   "source": [
    "plt.hist(y_train, bins='auto')\n",
    "plt.title(\"Histogram of class balance\")"
   ]
  },
  {
   "cell_type": "markdown",
   "metadata": {},
   "source": [
    "### 1.4 Discussion (4 points)\n",
    "Is the dataset balanced? What would happen if the dataset is not balanced in the context of image classification? "
   ]
  },
  {
   "cell_type": "markdown",
   "metadata": {},
   "source": [
    "yes, the dataset is perfectly balanced, if the data is not balanced, the algorithm will prefer to give output in favor of the majority class as it has more probability of getting correct by guessing in favor of the majority class. This will prevent the minority class from being predicted, and sometimes neglected."
   ]
  },
  {
   "cell_type": "markdown",
   "metadata": {},
   "source": [
    "## Question 2 (40 points)\n",
    "\n",
    "Build a neural network and train it with the Fashion-MNIST dataset. Here, we use the keras library, which is a high-level neural network library built upon tensorflow."
   ]
  },
  {
   "cell_type": "code",
   "execution_count": 5,
   "metadata": {},
   "outputs": [],
   "source": [
    "# Convert the label class into a one-hot representation\n",
    "from keras.layers.convolutional import Conv2D\n",
    "from keras.layers import Flatten, Dense, Reshape, MaxPool2D, Input, Activation, Dropout, BatchNormalization\n",
    "num_classes = 10\n",
    "y_train = keras.utils.to_categorical(y_train, num_classes)\n",
    "y_test = keras.utils.to_categorical(y_test, num_classes)"
   ]
  },
  {
   "cell_type": "code",
   "execution_count": 6,
   "metadata": {},
   "outputs": [
    {
     "data": {
      "text/plain": [
       "(60000, 784)"
      ]
     },
     "execution_count": 6,
     "metadata": {},
     "output_type": "execute_result"
    }
   ],
   "source": [
    "x_train.shape"
   ]
  },
  {
   "cell_type": "markdown",
   "metadata": {},
   "source": [
    "### 2.1 Build a multi-layer perceptron, also known as multi-layer fully connected network. You need to define the number of classes, the layers, the loss function, the optimiser and evaluation metric. (30 points)"
   ]
  },
  {
   "cell_type": "code",
   "execution_count": 7,
   "metadata": {},
   "outputs": [
    {
     "name": "stdout",
     "output_type": "stream",
     "text": [
      "_________________________________________________________________\n",
      "Layer (type)                 Output Shape              Param #   \n",
      "=================================================================\n",
      "dense_1 (Dense)              (None, 784)               615440    \n",
      "_________________________________________________________________\n",
      "activation_1 (Activation)    (None, 784)               0         \n",
      "_________________________________________________________________\n",
      "batch_normalization_1 (Batch (None, 784)               3136      \n",
      "_________________________________________________________________\n",
      "dense_2 (Dense)              (None, 1568)              1230880   \n",
      "_________________________________________________________________\n",
      "activation_2 (Activation)    (None, 1568)              0         \n",
      "_________________________________________________________________\n",
      "dropout_1 (Dropout)          (None, 1568)              0         \n",
      "_________________________________________________________________\n",
      "dense_3 (Dense)              (None, 784)               1230096   \n",
      "_________________________________________________________________\n",
      "activation_3 (Activation)    (None, 784)               0         \n",
      "_________________________________________________________________\n",
      "dropout_2 (Dropout)          (None, 784)               0         \n",
      "_________________________________________________________________\n",
      "dense_4 (Dense)              (None, 256)               200960    \n",
      "_________________________________________________________________\n",
      "activation_4 (Activation)    (None, 256)               0         \n",
      "_________________________________________________________________\n",
      "dropout_3 (Dropout)          (None, 256)               0         \n",
      "_________________________________________________________________\n",
      "dense_5 (Dense)              (None, 128)               32896     \n",
      "_________________________________________________________________\n",
      "activation_5 (Activation)    (None, 128)               0         \n",
      "_________________________________________________________________\n",
      "dropout_4 (Dropout)          (None, 128)               0         \n",
      "_________________________________________________________________\n",
      "dense_6 (Dense)              (None, 64)                8256      \n",
      "_________________________________________________________________\n",
      "activation_6 (Activation)    (None, 64)                0         \n",
      "_________________________________________________________________\n",
      "dropout_5 (Dropout)          (None, 64)                0         \n",
      "_________________________________________________________________\n",
      "dense_7 (Dense)              (None, 32)                2080      \n",
      "_________________________________________________________________\n",
      "activation_7 (Activation)    (None, 32)                0         \n",
      "_________________________________________________________________\n",
      "dropout_6 (Dropout)          (None, 32)                0         \n",
      "_________________________________________________________________\n",
      "dense_8 (Dense)              (None, 16)                528       \n",
      "_________________________________________________________________\n",
      "activation_8 (Activation)    (None, 16)                0         \n",
      "_________________________________________________________________\n",
      "dropout_7 (Dropout)          (None, 16)                0         \n",
      "_________________________________________________________________\n",
      "dense_9 (Dense)              (None, 10)                170       \n",
      "_________________________________________________________________\n",
      "activation_9 (Activation)    (None, 10)                0         \n",
      "=================================================================\n",
      "Total params: 3,324,442\n",
      "Trainable params: 3,322,874\n",
      "Non-trainable params: 1,568\n",
      "_________________________________________________________________\n",
      "None\n"
     ]
    }
   ],
   "source": [
    "model = keras.models.Sequential()\n",
    "model.add(Dense(784, input_dim = 784))\n",
    "model.add(Activation(\"relu\"))\n",
    "model.add(BatchNormalization())\n",
    "model.add(Dense(1568))\n",
    "model.add(Activation(\"relu\"))\n",
    "model.add(Dropout(0.2))\n",
    "model.add(Dense(784))\n",
    "model.add(Activation(\"relu\"))\n",
    "model.add(Dropout(0.2))\n",
    "model.add(Dense(256))\n",
    "model.add(Activation(\"relu\"))\n",
    "model.add(Dropout(0.2))\n",
    "model.add(Dense(128))\n",
    "model.add(Activation(\"relu\"))\n",
    "model.add(Dropout(0.2))\n",
    "model.add(Dense(64))\n",
    "model.add(Activation(\"relu\"))\n",
    "model.add(Dropout(0.2))\n",
    "model.add(Dense(32))\n",
    "model.add(Activation(\"relu\"))\n",
    "model.add(Dropout(0.2))\n",
    "model.add(Dense(16))\n",
    "model.add(Activation(\"relu\"))\n",
    "model.add(Dropout(0.2))\n",
    "model.add(Dense(10))\n",
    "model.add(Activation(\"softmax\"))\n",
    "model.compile(loss=\"categorical_crossentropy\", optimizer=\"adam\", metrics=[\"acc\"])\n",
    "print(model.summary())"
   ]
  },
  {
   "cell_type": "markdown",
   "metadata": {},
   "source": [
    "### 2.2 Define the optimisation parameters including the batch size and the number of epochs and then run the optimiser. (10 points)\n",
    "\n",
    "We have tested that for an appropriate network architecture, on a personal laptop and with only CPU, it takes about a few seconds per epoch to train the network. For 100 epochs, it takes about a coffee break's time to finish the training. If you run it on a powerful GPU, it would be even much faster."
   ]
  },
  {
   "cell_type": "code",
   "execution_count": 12,
   "metadata": {
    "scrolled": true
   },
   "outputs": [
    {
     "name": "stdout",
     "output_type": "stream",
     "text": [
      "Train on 57000 samples, validate on 3000 samples\n",
      "Epoch 1/100\n",
      "57000/57000 [==============================] - 8s 132us/step - loss: 0.3025 - acc: 0.8995 - val_loss: 0.3734 - val_acc: 0.8883\n",
      "Epoch 2/100\n",
      "57000/57000 [==============================] - 8s 133us/step - loss: 0.2954 - acc: 0.9024 - val_loss: 0.3715 - val_acc: 0.8900\n",
      "Epoch 3/100\n",
      "57000/57000 [==============================] - 8s 132us/step - loss: 0.2896 - acc: 0.9029 - val_loss: 0.3712 - val_acc: 0.8913\n",
      "Epoch 4/100\n",
      "57000/57000 [==============================] - 8s 133us/step - loss: 0.2870 - acc: 0.9038 - val_loss: 0.3760 - val_acc: 0.8937\n",
      "Epoch 5/100\n",
      "57000/57000 [==============================] - 8s 134us/step - loss: 0.2803 - acc: 0.9054 - val_loss: 0.3846 - val_acc: 0.8897\n",
      "Epoch 6/100\n",
      "57000/57000 [==============================] - 8s 133us/step - loss: 0.2773 - acc: 0.9069 - val_loss: 0.3854 - val_acc: 0.8923\n",
      "Epoch 7/100\n",
      "57000/57000 [==============================] - 8s 135us/step - loss: 0.2720 - acc: 0.9089 - val_loss: 0.3900 - val_acc: 0.8903\n",
      "Epoch 8/100\n",
      "57000/57000 [==============================] - 8s 140us/step - loss: 0.2697 - acc: 0.9087 - val_loss: 0.3969 - val_acc: 0.8927\n",
      "Epoch 9/100\n",
      "57000/57000 [==============================] - 8s 133us/step - loss: 0.2633 - acc: 0.9116 - val_loss: 0.4017 - val_acc: 0.8950\n",
      "Epoch 10/100\n",
      "57000/57000 [==============================] - 8s 134us/step - loss: 0.2641 - acc: 0.9108 - val_loss: 0.4036 - val_acc: 0.8930\n",
      "Epoch 11/100\n",
      "57000/57000 [==============================] - 8s 133us/step - loss: 0.2606 - acc: 0.9125 - val_loss: 0.4086 - val_acc: 0.8937\n",
      "Epoch 12/100\n",
      "57000/57000 [==============================] - 8s 134us/step - loss: 0.2562 - acc: 0.9135 - val_loss: 0.4159 - val_acc: 0.8927\n",
      "Epoch 13/100\n",
      "57000/57000 [==============================] - 8s 134us/step - loss: 0.2572 - acc: 0.9130 - val_loss: 0.4252 - val_acc: 0.8943\n",
      "Epoch 14/100\n",
      "57000/57000 [==============================] - 8s 135us/step - loss: 0.2495 - acc: 0.9151 - val_loss: 0.4232 - val_acc: 0.8937\n",
      "Epoch 15/100\n",
      "57000/57000 [==============================] - 8s 134us/step - loss: 0.2505 - acc: 0.9166 - val_loss: 0.4201 - val_acc: 0.8940\n",
      "Epoch 16/100\n",
      "57000/57000 [==============================] - 8s 134us/step - loss: 0.2451 - acc: 0.9166 - val_loss: 0.4322 - val_acc: 0.8960\n",
      "Epoch 17/100\n",
      "57000/57000 [==============================] - 8s 134us/step - loss: 0.2458 - acc: 0.9163 - val_loss: 0.4477 - val_acc: 0.8953\n",
      "Epoch 18/100\n",
      "57000/57000 [==============================] - 8s 133us/step - loss: 0.2417 - acc: 0.9188 - val_loss: 0.4527 - val_acc: 0.8920\n",
      "Epoch 19/100\n",
      "57000/57000 [==============================] - 8s 134us/step - loss: 0.2425 - acc: 0.9187 - val_loss: 0.4310 - val_acc: 0.8940\n",
      "Epoch 20/100\n",
      "57000/57000 [==============================] - 8s 134us/step - loss: 0.2356 - acc: 0.9202 - val_loss: 0.4446 - val_acc: 0.8967\n",
      "Epoch 21/100\n",
      "57000/57000 [==============================] - 8s 134us/step - loss: 0.2320 - acc: 0.9227 - val_loss: 0.4416 - val_acc: 0.8950\n",
      "Epoch 22/100\n",
      "57000/57000 [==============================] - 8s 134us/step - loss: 0.2311 - acc: 0.9219 - val_loss: 0.4551 - val_acc: 0.8937\n",
      "Epoch 23/100\n",
      "57000/57000 [==============================] - 8s 134us/step - loss: 0.2295 - acc: 0.9224 - val_loss: 0.4468 - val_acc: 0.8947\n",
      "Epoch 24/100\n",
      "57000/57000 [==============================] - 8s 135us/step - loss: 0.2249 - acc: 0.9232 - val_loss: 0.4509 - val_acc: 0.8957\n",
      "Epoch 25/100\n",
      "57000/57000 [==============================] - 8s 134us/step - loss: 0.2221 - acc: 0.9246 - val_loss: 0.4623 - val_acc: 0.8967\n",
      "Epoch 26/100\n",
      "57000/57000 [==============================] - 8s 136us/step - loss: 0.2220 - acc: 0.9245 - val_loss: 0.4591 - val_acc: 0.8973\n",
      "Epoch 27/100\n",
      "57000/57000 [==============================] - 8s 139us/step - loss: 0.2166 - acc: 0.9267 - val_loss: 0.4846 - val_acc: 0.8967\n",
      "Epoch 28/100\n",
      "57000/57000 [==============================] - 8s 136us/step - loss: 0.2185 - acc: 0.9259 - val_loss: 0.4595 - val_acc: 0.8953\n",
      "Epoch 29/100\n",
      "57000/57000 [==============================] - 8s 136us/step - loss: 0.2133 - acc: 0.9293 - val_loss: 0.4726 - val_acc: 0.8987\n",
      "Epoch 30/100\n",
      "57000/57000 [==============================] - 8s 134us/step - loss: 0.2095 - acc: 0.9301 - val_loss: 0.4797 - val_acc: 0.8973\n",
      "Epoch 31/100\n",
      "57000/57000 [==============================] - 8s 134us/step - loss: 0.2040 - acc: 0.9301 - val_loss: 0.4666 - val_acc: 0.9003\n",
      "Epoch 32/100\n",
      "57000/57000 [==============================] - 8s 134us/step - loss: 0.2026 - acc: 0.9306 - val_loss: 0.4890 - val_acc: 0.8957\n",
      "Epoch 33/100\n",
      "57000/57000 [==============================] - 8s 134us/step - loss: 0.2031 - acc: 0.9314 - val_loss: 0.4971 - val_acc: 0.8973\n",
      "Epoch 34/100\n",
      "57000/57000 [==============================] - 8s 134us/step - loss: 0.2004 - acc: 0.9328 - val_loss: 0.5026 - val_acc: 0.8920\n",
      "Epoch 35/100\n",
      "57000/57000 [==============================] - 8s 134us/step - loss: 0.1956 - acc: 0.9345 - val_loss: 0.4877 - val_acc: 0.8940\n",
      "Epoch 36/100\n",
      "57000/57000 [==============================] - 8s 134us/step - loss: 0.1954 - acc: 0.9347 - val_loss: 0.5249 - val_acc: 0.8953\n",
      "Epoch 37/100\n",
      "57000/57000 [==============================] - 8s 134us/step - loss: 0.1886 - acc: 0.9354 - val_loss: 0.4988 - val_acc: 0.8973\n",
      "Epoch 38/100\n",
      "57000/57000 [==============================] - 8s 134us/step - loss: 0.1862 - acc: 0.9367 - val_loss: 0.5097 - val_acc: 0.8940\n",
      "Epoch 39/100\n",
      "57000/57000 [==============================] - 8s 134us/step - loss: 0.1820 - acc: 0.9384 - val_loss: 0.5256 - val_acc: 0.8953\n",
      "Epoch 40/100\n",
      "57000/57000 [==============================] - 8s 134us/step - loss: 0.1853 - acc: 0.9372 - val_loss: 0.5067 - val_acc: 0.8977\n",
      "Epoch 41/100\n",
      "57000/57000 [==============================] - 8s 134us/step - loss: 0.1793 - acc: 0.9393 - val_loss: 0.5318 - val_acc: 0.8927\n",
      "Epoch 42/100\n",
      "57000/57000 [==============================] - 8s 134us/step - loss: 0.1761 - acc: 0.9409 - val_loss: 0.5451 - val_acc: 0.8960\n",
      "Epoch 43/100\n",
      "57000/57000 [==============================] - 8s 134us/step - loss: 0.1751 - acc: 0.9405 - val_loss: 0.5027 - val_acc: 0.8980\n",
      "Epoch 44/100\n",
      "57000/57000 [==============================] - 8s 134us/step - loss: 0.1774 - acc: 0.9398 - val_loss: 0.5225 - val_acc: 0.8933\n",
      "Epoch 45/100\n",
      "57000/57000 [==============================] - 8s 134us/step - loss: 0.1737 - acc: 0.9421 - val_loss: 0.5121 - val_acc: 0.8973\n",
      "Epoch 46/100\n",
      "57000/57000 [==============================] - 8s 134us/step - loss: 0.1711 - acc: 0.9427 - val_loss: 0.5562 - val_acc: 0.8967\n",
      "Epoch 47/100\n",
      "57000/57000 [==============================] - 8s 134us/step - loss: 0.1659 - acc: 0.9444 - val_loss: 0.5359 - val_acc: 0.8900\n",
      "Epoch 48/100\n",
      "57000/57000 [==============================] - 8s 134us/step - loss: 0.1645 - acc: 0.9453 - val_loss: 0.5275 - val_acc: 0.8957\n",
      "Epoch 49/100\n",
      "57000/57000 [==============================] - 8s 134us/step - loss: 0.1639 - acc: 0.9458 - val_loss: 0.5525 - val_acc: 0.8897\n",
      "Epoch 50/100\n",
      "57000/57000 [==============================] - 8s 134us/step - loss: 0.1628 - acc: 0.9447 - val_loss: 0.5607 - val_acc: 0.8953\n",
      "Epoch 51/100\n",
      "57000/57000 [==============================] - 8s 134us/step - loss: 0.1602 - acc: 0.9454 - val_loss: 0.5586 - val_acc: 0.8977\n",
      "Epoch 52/100\n",
      "57000/57000 [==============================] - 8s 135us/step - loss: 0.1577 - acc: 0.9466 - val_loss: 0.5044 - val_acc: 0.9043\n",
      "Epoch 53/100\n",
      "57000/57000 [==============================] - 8s 138us/step - loss: 0.1571 - acc: 0.9477 - val_loss: 0.5648 - val_acc: 0.8897\n",
      "Epoch 54/100\n",
      "57000/57000 [==============================] - 8s 135us/step - loss: 0.1525 - acc: 0.9488 - val_loss: 0.5649 - val_acc: 0.8963\n",
      "Epoch 55/100\n",
      "57000/57000 [==============================] - 8s 136us/step - loss: 0.1519 - acc: 0.9487 - val_loss: 0.5650 - val_acc: 0.8957\n",
      "Epoch 56/100\n",
      "57000/57000 [==============================] - 8s 137us/step - loss: 0.1485 - acc: 0.9499 - val_loss: 0.5824 - val_acc: 0.8937\n",
      "Epoch 57/100\n",
      "57000/57000 [==============================] - 8s 135us/step - loss: 0.1464 - acc: 0.9506 - val_loss: 0.5765 - val_acc: 0.8927\n",
      "Epoch 58/100\n",
      "57000/57000 [==============================] - 8s 135us/step - loss: 0.1453 - acc: 0.9510 - val_loss: 0.5578 - val_acc: 0.9000\n",
      "Epoch 59/100\n"
     ]
    },
    {
     "name": "stdout",
     "output_type": "stream",
     "text": [
      "57000/57000 [==============================] - 8s 134us/step - loss: 0.1418 - acc: 0.9522 - val_loss: 0.6134 - val_acc: 0.8970\n",
      "Epoch 60/100\n",
      "57000/57000 [==============================] - 8s 135us/step - loss: 0.1375 - acc: 0.9532 - val_loss: 0.5593 - val_acc: 0.8980\n",
      "Epoch 61/100\n",
      "57000/57000 [==============================] - 8s 136us/step - loss: 0.1377 - acc: 0.9536 - val_loss: 0.5785 - val_acc: 0.8937\n",
      "Epoch 62/100\n",
      "57000/57000 [==============================] - 8s 134us/step - loss: 0.1402 - acc: 0.9532 - val_loss: 0.5607 - val_acc: 0.8960\n",
      "Epoch 63/100\n",
      "57000/57000 [==============================] - 8s 134us/step - loss: 0.1338 - acc: 0.9554 - val_loss: 0.6059 - val_acc: 0.8930\n",
      "Epoch 64/100\n",
      "57000/57000 [==============================] - 8s 134us/step - loss: 0.1314 - acc: 0.9574 - val_loss: 0.5746 - val_acc: 0.8967\n",
      "Epoch 65/100\n",
      "57000/57000 [==============================] - 8s 135us/step - loss: 0.1276 - acc: 0.9577 - val_loss: 0.5858 - val_acc: 0.8993\n",
      "Epoch 66/100\n",
      "57000/57000 [==============================] - 8s 136us/step - loss: 0.1303 - acc: 0.9575 - val_loss: 0.6053 - val_acc: 0.8963\n",
      "Epoch 67/100\n",
      "57000/57000 [==============================] - 8s 134us/step - loss: 0.1303 - acc: 0.9564 - val_loss: 0.5835 - val_acc: 0.8917\n",
      "Epoch 68/100\n",
      "57000/57000 [==============================] - 8s 134us/step - loss: 0.1304 - acc: 0.9561 - val_loss: 0.6324 - val_acc: 0.8963\n",
      "Epoch 69/100\n",
      "57000/57000 [==============================] - 8s 134us/step - loss: 0.1305 - acc: 0.9559 - val_loss: 0.5595 - val_acc: 0.8963\n",
      "Epoch 70/100\n",
      "57000/57000 [==============================] - 8s 134us/step - loss: 0.1259 - acc: 0.9585 - val_loss: 0.6084 - val_acc: 0.8937\n",
      "Epoch 71/100\n",
      "57000/57000 [==============================] - 8s 134us/step - loss: 0.1182 - acc: 0.9602 - val_loss: 0.6097 - val_acc: 0.8947\n",
      "Epoch 72/100\n",
      "57000/57000 [==============================] - 8s 134us/step - loss: 0.1229 - acc: 0.9601 - val_loss: 0.5931 - val_acc: 0.9010\n",
      "Epoch 73/100\n",
      "57000/57000 [==============================] - 8s 134us/step - loss: 0.1239 - acc: 0.9591 - val_loss: 0.5811 - val_acc: 0.8940\n",
      "Epoch 74/100\n",
      "57000/57000 [==============================] - 8s 134us/step - loss: 0.1271 - acc: 0.9582 - val_loss: 0.6059 - val_acc: 0.8860\n",
      "Epoch 75/100\n",
      "57000/57000 [==============================] - 8s 134us/step - loss: 0.1272 - acc: 0.9575 - val_loss: 0.6357 - val_acc: 0.8880\n",
      "Epoch 76/100\n",
      "57000/57000 [==============================] - 8s 134us/step - loss: 0.1220 - acc: 0.9600 - val_loss: 0.6128 - val_acc: 0.8903\n",
      "Epoch 77/100\n",
      "57000/57000 [==============================] - 8s 134us/step - loss: 0.1181 - acc: 0.9605 - val_loss: 0.5910 - val_acc: 0.8953\n",
      "Epoch 78/100\n",
      "57000/57000 [==============================] - 8s 134us/step - loss: 0.1149 - acc: 0.9614 - val_loss: 0.6410 - val_acc: 0.8943\n",
      "Epoch 79/100\n",
      "57000/57000 [==============================] - 8s 133us/step - loss: 0.1105 - acc: 0.9637 - val_loss: 0.6510 - val_acc: 0.8917\n",
      "Epoch 80/100\n",
      "57000/57000 [==============================] - 8s 133us/step - loss: 0.1059 - acc: 0.9658 - val_loss: 0.6667 - val_acc: 0.8937\n",
      "Epoch 81/100\n",
      "57000/57000 [==============================] - 8s 133us/step - loss: 0.1040 - acc: 0.9656 - val_loss: 0.6918 - val_acc: 0.8903\n",
      "Epoch 82/100\n",
      "57000/57000 [==============================] - 8s 134us/step - loss: 0.1083 - acc: 0.9653 - val_loss: 0.6294 - val_acc: 0.9013\n",
      "Epoch 83/100\n",
      "57000/57000 [==============================] - 8s 134us/step - loss: 0.1038 - acc: 0.9665 - val_loss: 0.6295 - val_acc: 0.8973\n",
      "Epoch 84/100\n",
      "57000/57000 [==============================] - 8s 134us/step - loss: 0.0995 - acc: 0.9685 - val_loss: 0.6429 - val_acc: 0.8933\n",
      "Epoch 85/100\n",
      "57000/57000 [==============================] - 8s 134us/step - loss: 0.1008 - acc: 0.9666 - val_loss: 0.6919 - val_acc: 0.8943\n",
      "Epoch 86/100\n",
      "57000/57000 [==============================] - 8s 135us/step - loss: 0.0991 - acc: 0.9679 - val_loss: 0.6517 - val_acc: 0.8943\n",
      "Epoch 87/100\n",
      "57000/57000 [==============================] - 8s 139us/step - loss: 0.0925 - acc: 0.9704 - val_loss: 0.6448 - val_acc: 0.9000\n",
      "Epoch 88/100\n",
      "57000/57000 [==============================] - 8s 138us/step - loss: 0.0910 - acc: 0.9711 - val_loss: 0.7571 - val_acc: 0.8927\n",
      "Epoch 89/100\n",
      "57000/57000 [==============================] - 8s 136us/step - loss: 0.0983 - acc: 0.9696 - val_loss: 0.6733 - val_acc: 0.8993\n",
      "Epoch 90/100\n",
      "57000/57000 [==============================] - 8s 135us/step - loss: 0.0944 - acc: 0.9698 - val_loss: 0.6639 - val_acc: 0.8933\n",
      "Epoch 91/100\n",
      "57000/57000 [==============================] - 8s 138us/step - loss: 0.0914 - acc: 0.9706 - val_loss: 0.6751 - val_acc: 0.8963\n",
      "Epoch 92/100\n",
      "57000/57000 [==============================] - 8s 136us/step - loss: 0.1013 - acc: 0.9679 - val_loss: 0.7065 - val_acc: 0.8947\n",
      "Epoch 93/100\n",
      "57000/57000 [==============================] - 8s 137us/step - loss: 0.1005 - acc: 0.9687 - val_loss: 0.6492 - val_acc: 0.8973\n",
      "Epoch 94/100\n",
      "57000/57000 [==============================] - 8s 136us/step - loss: 0.0975 - acc: 0.9694 - val_loss: 0.6310 - val_acc: 0.8937\n",
      "Epoch 95/100\n",
      "57000/57000 [==============================] - 8s 136us/step - loss: 0.0910 - acc: 0.9713 - val_loss: 0.6953 - val_acc: 0.8950\n",
      "Epoch 96/100\n",
      "57000/57000 [==============================] - 8s 134us/step - loss: 0.0879 - acc: 0.9723 - val_loss: 0.6766 - val_acc: 0.8943\n",
      "Epoch 97/100\n",
      "57000/57000 [==============================] - 8s 135us/step - loss: 0.0940 - acc: 0.9714 - val_loss: 0.6512 - val_acc: 0.8953\n",
      "Epoch 98/100\n",
      "57000/57000 [==============================] - 8s 135us/step - loss: 0.0923 - acc: 0.9712 - val_loss: 0.6752 - val_acc: 0.8907\n",
      "Epoch 99/100\n",
      "57000/57000 [==============================] - 8s 135us/step - loss: 0.0897 - acc: 0.9725 - val_loss: 0.6995 - val_acc: 0.8933\n",
      "Epoch 100/100\n",
      "57000/57000 [==============================] - 8s 135us/step - loss: 0.0824 - acc: 0.9751 - val_loss: 0.6974 - val_acc: 0.8970\n"
     ]
    },
    {
     "data": {
      "text/plain": [
       "<keras.callbacks.History at 0x7fdbe0317898>"
      ]
     },
     "execution_count": 12,
     "metadata": {},
     "output_type": "execute_result"
    }
   ],
   "source": [
    "batch_size = 8192\n",
    "epochs = 100\n",
    "model.fit(x=x_train,y=y_train,batch_size=batch_size,epochs=epochs,validation_split=0.05)"
   ]
  },
  {
   "cell_type": "markdown",
   "metadata": {},
   "source": [
    "## Question 3 (20 points) \n",
    "\n",
    "Evaluate the performance of your network with the test data. \n",
    "Visualize the performance using appropriate metrics and graphs (eg. confusion matrix). \n",
    "Comment on your per class performance and how it could be better."
   ]
  },
  {
   "cell_type": "code",
   "execution_count": 13,
   "metadata": {},
   "outputs": [],
   "source": [
    "import itertools\n",
    "\n",
    "# This function is provided for you to display the confusion matrix.\n",
    "# For more information about the confusion matrix, you can read at\n",
    "# https://en.wikipedia.org/wiki/Confusion_matrix\n",
    "def plot_confusion_matrix(cm, classes, normalize=False, title='Confusion matrix', cmap=plt.cm.Blues):\n",
    "    \"\"\"\n",
    "        This function prints and plots the confusion matrix.\n",
    "        \n",
    "        cm: confusion matrix\n",
    "        classes: a list of the class labels or class names\n",
    "        normalize: normalize the matrix so that each row amounts to one\n",
    "        cmap: color map\n",
    "    \"\"\"\n",
    "    if normalize:\n",
    "        cm = cm.astype('float') / cm.sum(axis=1)[:, np.newaxis]\n",
    "        print(\"Normalized confusion matrix\")\n",
    "    else:\n",
    "        print('Confusion matrix, without normalization')\n",
    "    print(cm)\n",
    "\n",
    "    plt.imshow(cm, interpolation='nearest', cmap=cmap)\n",
    "    plt.title(title)\n",
    "    plt.colorbar()\n",
    "    tick_marks = np.arange(len(classes))\n",
    "    plt.xticks(tick_marks, classes, rotation=45)\n",
    "    plt.yticks(tick_marks, classes)\n",
    "\n",
    "    fmt = '.2f' if normalize else 'd'\n",
    "    thresh = cm.max() / 2.\n",
    "    for i, j in itertools.product(range(cm.shape[0]), range(cm.shape[1])):\n",
    "        plt.text(j, i, format(cm[i, j], fmt),\n",
    "                 horizontalalignment=\"center\",\n",
    "                 color=\"white\" if cm[i, j] > thresh else \"black\")\n",
    "    plt.ylabel('True label')\n",
    "    plt.xlabel('Predicted label')\n",
    "    plt.tight_layout()"
   ]
  },
  {
   "cell_type": "markdown",
   "metadata": {},
   "source": [
    "### 3.1 Evaluate the classification accuracy on the test set (10 points)"
   ]
  },
  {
   "cell_type": "code",
   "execution_count": 14,
   "metadata": {},
   "outputs": [
    {
     "name": "stdout",
     "output_type": "stream",
     "text": [
      "10000/10000 [==============================] - 1s 104us/step\n"
     ]
    },
    {
     "data": {
      "text/plain": [
       "[0.7225535807508975, 0.8911]"
      ]
     },
     "execution_count": 14,
     "metadata": {},
     "output_type": "execute_result"
    }
   ],
   "source": [
    "model.evaluate(x=x_test,y=y_test)"
   ]
  },
  {
   "cell_type": "markdown",
   "metadata": {},
   "source": [
    "### 3.2 Calculate and plot the confusion matrix (10 points)"
   ]
  },
  {
   "cell_type": "code",
   "execution_count": 15,
   "metadata": {},
   "outputs": [
    {
     "name": "stdout",
     "output_type": "stream",
     "text": [
      "Confusion matrix, without normalization\n",
      "[[884   3  23  20   1   0 167   0   2   1]\n",
      " [  2 980   1  10   0   0   2   0   0   0]\n",
      " [ 11   1 788   6  62   1  65   0   3   0]\n",
      " [ 31   8  13 915  37   0  32   0  11   0]\n",
      " [  3   3 109  27 844   0  66   0   3   0]\n",
      " [  1   0   0   0   0 975   0  13   3  11]\n",
      " [ 66   4  64  16  55   0 660   0   8   0]\n",
      " [  0   0   0   0   0  15   0 970   5  58]\n",
      " [  2   1   2   6   1   0   8   0 965   0]\n",
      " [  0   0   0   0   0   9   0  17   0 930]]\n"
     ]
    },
    {
     "data": {
      "image/png": "[encoded data removed]",
      "text/plain": [
       "<Figure size 432x288 with 2 Axes>"
      ]
     },
     "metadata": {
      "needs_background": "light"
     },
     "output_type": "display_data"
    }
   ],
   "source": [
    "y_pred = model.predict(x_test)\n",
    "confusion_mat = np.zeros([10,10])\n",
    "\n",
    "for pred,true in zip(y_pred,y_test):\n",
    "    confusion_mat[pred.argmax(axis=0),true.argmax(axis=0)] += 1\n",
    "    \n",
    "plot_confusion_matrix(confusion_mat.astype(np.int32),[0,1,2,3,4,5,6,7,8,9])"
   ]
  },
  {
   "cell_type": "markdown",
   "metadata": {},
   "source": [
    "## Question 4 (20 points)\n",
    "Take two photos, one of your clothes or shoes that belongs to one of 10 classes, the other that does not belong to any class.\n",
    "\n",
    "Use either Python or other software (Photoshop, Gimp, or any image editer) to convert the photos into grayscale, crop the region of interest and reshape into the size of 28x28.\n",
    "\n",
    "### 4.1 Load and visualise your own images (6 points)"
   ]
  },
  {
   "cell_type": "code",
   "execution_count": 16,
   "metadata": {},
   "outputs": [
    {
     "data": {
      "image/png": "[encoded data removed]",
      "text/plain": [
       "<Figure size 432x288 with 1 Axes>"
      ]
     },
     "metadata": {
      "needs_background": "light"
     },
     "output_type": "display_data"
    },
    {
     "data": {
      "image/png": "[encoded data removed]",
      "text/plain": [
       "<Figure size 432x288 with 1 Axes>"
      ]
     },
     "metadata": {
      "needs_background": "light"
     },
     "output_type": "display_data"
    }
   ],
   "source": [
    "import cv2\n",
    "img_shoe = cv2.imread('shoe_test.jpg',0)\n",
    "plt.imshow(img_shoe)\n",
    "x_shoe = np.expand_dims(img_shoe.flatten(),axis=1).transpose()\n",
    "\n",
    "plt.figure()\n",
    "img_derp = cv2.imread('derp_test.jpg',0)\n",
    "plt.imshow(img_derp)\n",
    "x_derp = np.expand_dims(img_derp.flatten(),axis=1).transpose()"
   ]
  },
  {
   "cell_type": "code",
   "execution_count": 17,
   "metadata": {},
   "outputs": [
    {
     "data": {
      "text/plain": [
       "(1, 784)"
      ]
     },
     "execution_count": 17,
     "metadata": {},
     "output_type": "execute_result"
    }
   ],
   "source": [
    "x_shoe.shape"
   ]
  },
  {
   "cell_type": "markdown",
   "metadata": {},
   "source": [
    "### 4.2 Test your network on the two images and show the classification results (10 points)"
   ]
  },
  {
   "cell_type": "code",
   "execution_count": 19,
   "metadata": {},
   "outputs": [
    {
     "name": "stdout",
     "output_type": "stream",
     "text": [
      "[[2.1916579e-05 2.8420565e-05 1.0805160e-03 8.6203322e-08 4.7799658e-06\n",
      "  9.9615699e-01 1.7925369e-04 1.1236012e-03 1.4014798e-04 1.2643029e-03]]\n",
      "predicted class for sneaker= [5]\n",
      "\n",
      "[[1.4872169e-02 4.3375199e-04 3.7102640e-02 1.8350195e-02 6.9167234e-02\n",
      "  3.9608192e-04 1.5073271e-01 8.9258092e-06 7.0874143e-01 1.9495137e-04]]\n",
      "predicted class for irrelevant image= [8]\n"
     ]
    }
   ],
   "source": [
    "y_shoe = model.predict(x=x_shoe)\n",
    "pred_shoe = y_shoe.argmax(axis=1)\n",
    "print(y_shoe)\n",
    "print(\"predicted class for sneaker=\",pred_shoe)\n",
    "\n",
    "print('')\n",
    "\n",
    "y_derp = model.predict(x=x_derp)\n",
    "pred_derp = y_derp.argmax(axis=1)\n",
    "print(y_derp)\n",
    "print(\"predicted class for irrelevant image=\",pred_derp)"
   ]
  },
  {
   "cell_type": "markdown",
   "metadata": {},
   "source": [
    "### 4.3 Discuss the classification results and provide one method to improve real life performance of the network (4 points)"
   ]
  },
  {
   "cell_type": "markdown",
   "metadata": {},
   "source": [
    "The model is tested against a pair of sneakers which is resized and manipulated to have the similar size and form as other pictures in the training set, i.e. 28x28 pixel image with black background. Although judging from the confusion matrix that the model has high probability of classifying a sneaker as a sneaker and has a very low probability of misclassifying a sneaker as a sandal. The model managed to misclassify a sneaker into a sandal by giving the value from the softmax function to the sandal of 0.996, and that of the sneaker of 1.123e-03. This reflects that the model is confident that the test sneaker is a sandal. This mistake might originate from the fact that a densely connected neural network is used for image classification. Judging from the validation error versus the training error in the 100th epoch. The model has overfitted the training data as the training accuracy reached 97.51% at the end of the 100th epoch whereas the validation accuracy is only at 89.7% . The model is expected to perform worse when the image is shifted to the corner of the frame, this is because individual weights are assigned to each pixel in the image, preventing the model from being translational invariant.\n",
    "\n",
    "There are several ways to improve this model, which are the following:\n",
    "1. Change the architecture of the model into convolutional neural networks so that less weights are incurred at each layer, enabling deeper networks with the same weights.\n",
    "2. Use Keras callback functions to terminate the training procedure when the validation accuracy is not improved with epoch, which is a sign of overfitting.\n",
    "3. Apply image augmentation to the training set so that the model is more robust to translation, rotation, affine transformations, exposure, and scaling.\n",
    "4. Use more training samples to help the model generalize better as well as to support more complicated models."
   ]
  },
  {
   "cell_type": "markdown",
   "metadata": {},
   "source": [
    "## 5. Survey\n",
    "How long did the coursework take you to solve? "
   ]
  },
  {
   "cell_type": "markdown",
   "metadata": {},
   "source": []
  },
  {
   "cell_type": "markdown",
   "metadata": {},
   "source": [
    "3 hours"
   ]
  }
 ],
 "metadata": {
  "kernelspec": {
   "display_name": "Python 3",
   "language": "python",
   "name": "python3"
  },
  "language_info": {
   "codemirror_mode": {
    "name": "ipython",
    "version": 3
   },
   "file_extension": ".py",
   "mimetype": "text/x-python",
   "name": "python",
   "nbconvert_exporter": "python",
   "pygments_lexer": "ipython3",
   "version": "3.6.6"
  }
 },
 "nbformat": 4,
 "nbformat_minor": 2
}
