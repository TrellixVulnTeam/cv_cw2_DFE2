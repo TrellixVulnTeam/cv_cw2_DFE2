{
 "cells": [
  {
   "cell_type": "markdown",
   "metadata": {},
   "source": [
    "# Coursework 2: Neural Networks \n",
    "\n",
    "This coursework covers the topics covered in class regarding neural networks for image classification.\n",
    "\n",
    "This coursework includes both coding questions as well as written ones. Please upload the notebook, which contains your code, results and answers as a pdf file onto Cate.\n",
    "\n",
    "Dependencies: If you work on a college computer in the Computing Lab, where Ubuntu 18.04 is installed by default, you can use the following virtual environment for your work, where relevant Python packages are already installed.\n",
    "\n",
    "`source /vol/bitbucket/wbai/virt/computer_vision_ubuntu18.04/bin/activate`\n",
    "\n",
    "Alternatively, you can use pip, pip3 or anaconda etc to install Python packages.\n",
    "\n",
    "**Note:** please read the both the text and code comment in this notebook to get an idea what you are supposed to implement.\n",
    "\n",
    "**Note 2** If you are using the virtual environment please run the following command before importing tensorflow\n",
    "\n",
    "`export LD_LIBRARY_PATH=/vol/cuda/9.0.176/lib64/:\"${LD_LIBRARY_PATH}}\"` "
   ]
  },
  {
   "cell_type": "code",
   "execution_count": 1,
   "metadata": {},
   "outputs": [
    {
     "name": "stderr",
     "output_type": "stream",
     "text": [
      "Using TensorFlow backend.\n"
     ]
    }
   ],
   "source": [
    "# Import libraries\n",
    "import numpy as np \n",
    "import matplotlib.pyplot as plt\n",
    "%matplotlib inline\n",
    "import tensorflow as tf \n",
    "import keras\n",
    "from keras.models import Sequential\n",
    "from keras.layers import Dense, Dropout"
   ]
  },
  {
   "cell_type": "markdown",
   "metadata": {},
   "source": [
    "## Question 1 (20 points)\n",
    "\n",
    "Throughout this coursework you will be working with the Fashion-MNIST dataset. If you are interested, you may find relevant information regarding the dataset in this paper.\n",
    "\n",
    "[1] Fashion-MNIST: A novel image dataset for benchmarking machine learning algorithms. Han Xiao, Kashif Rasul, Roland Vollgraf. [arXiv:1708.07747](https://arxiv.org/abs/1708.07747)\n",
    "\n",
    "Be sure that you have the following files in your working directory: data.tar.gz and reader.py. Loading the data can be done as follows:\n",
    "\n",
    "`from reader import get_images\n",
    "(x_train, y_train), (x_test, y_test) = get_images()`\n",
    "\n",
    "The dataset is already split into a set of 60,000 training images and a set of 10,000 test images. The images are of size 28x28 pixels and stored as 784-D vector. So if you would like to visualise the images, you need to reshape the array.\n",
    "\n",
    "There are in total 10 label classes, which are:\n",
    "* 0: T-shirt/top\n",
    "* 1: Trousers\n",
    "* 2: Pullover\n",
    "* 3: Dress\n",
    "* 4: Coat\n",
    "* 5: Sandal\n",
    "* 6: Shirt\n",
    "* 7: Sneaker\n",
    "* 8: Bag\n",
    "* 9: Ankle boot"
   ]
  },
  {
   "cell_type": "markdown",
   "metadata": {},
   "source": [
    "### 1.1 Load data (6 points)\n",
    "Load the dataset and print the dimensions of the training set and the test set."
   ]
  },
  {
   "cell_type": "code",
   "execution_count": 2,
   "metadata": {},
   "outputs": [
    {
     "name": "stdout",
     "output_type": "stream",
     "text": [
      "(60000, 784)\n",
      "(60000,)\n",
      "(10000, 784)\n",
      "(10000,)\n"
     ]
    },
    {
     "name": "stderr",
     "output_type": "stream",
     "text": [
      "/homes/sc6918/computer_vision/cw2/cv_cw2/reader.py:38: FutureWarning: Method .as_matrix will be removed in a future version. Use .values instead.\n",
      "  x_train = df_train.drop('label', axis=1).as_matrix().astype(np.uint8)\n",
      "/homes/sc6918/computer_vision/cw2/cv_cw2/reader.py:39: FutureWarning: Method .as_matrix will be removed in a future version. Use .values instead.\n",
      "  y_train = df_train['label'].as_matrix().astype(np.uint8)\n",
      "/homes/sc6918/computer_vision/cw2/cv_cw2/reader.py:40: FutureWarning: Method .as_matrix will be removed in a future version. Use .values instead.\n",
      "  x_test = df_test.drop('label', axis=1).as_matrix().astype(np.uint8)\n",
      "/homes/sc6918/computer_vision/cw2/cv_cw2/reader.py:41: FutureWarning: Method .as_matrix will be removed in a future version. Use .values instead.\n",
      "  y_test = df_test['label'].as_matrix().astype(np.uint8)\n"
     ]
    }
   ],
   "source": [
    "from reader import get_images\n",
    "(x_train, y_train), (x_test, y_test) = get_images()\n",
    "print(x_train.shape)\n",
    "print(y_train.shape)\n",
    "print(x_test.shape)\n",
    "print(y_test.shape)"
   ]
  },
  {
   "cell_type": "markdown",
   "metadata": {},
   "source": [
    "### 1.2 Visualize data (6 points)\n",
    "Visualise 3 training images (T-shirt, trousers and pullover) and 3 test images (dress, coat and sandal)."
   ]
  },
  {
   "cell_type": "code",
   "execution_count": 3,
   "metadata": {},
   "outputs": [
    {
     "data": {
      "text/plain": [
       "<Figure size 432x288 with 0 Axes>"
      ]
     },
     "execution_count": 3,
     "metadata": {},
     "output_type": "execute_result"
    },
    {
     "data": {
      "image/png": "[encoded data removed]",
      "text/plain": [
       "<Figure size 432x288 with 1 Axes>"
      ]
     },
     "metadata": {
      "needs_background": "light"
     },
     "output_type": "display_data"
    },
    {
     "data": {
      "image/png": "[encoded data removed]",
      "text/plain": [
       "<Figure size 432x288 with 1 Axes>"
      ]
     },
     "metadata": {
      "needs_background": "light"
     },
     "output_type": "display_data"
    },
    {
     "data": {
      "image/png": "[encoded data removed]",
      "text/plain": [
       "<Figure size 432x288 with 1 Axes>"
      ]
     },
     "metadata": {
      "needs_background": "light"
     },
     "output_type": "display_data"
    },
    {
     "data": {
      "text/plain": [
       "<Figure size 432x288 with 0 Axes>"
      ]
     },
     "metadata": {},
     "output_type": "display_data"
    }
   ],
   "source": [
    "n_tshirt=np.argwhere(y_train==0)[0]\n",
    "n_trousers=np.argwhere(y_train==1)[0]\n",
    "n_pullover=np.argwhere(y_train==2)[0]\n",
    "\n",
    "img_tshirt = x_train[n_tshirt]\n",
    "plt.imshow(np.reshape(img_tshirt,(28,28)))\n",
    "plt.figure()\n",
    "img_trousers = x_train[n_trousers]\n",
    "plt.imshow(np.reshape(img_trousers,(28,28)))\n",
    "plt.figure()\n",
    "img_pullover = x_train[n_pullover]\n",
    "plt.imshow(np.reshape(img_pullover,(28,28)))\n",
    "plt.figure()"
   ]
  },
  {
   "cell_type": "markdown",
   "metadata": {},
   "source": [
    "### 1.3 Data balance (4 points)\n",
    "Print out the number of training samples for each class."
   ]
  },
  {
   "cell_type": "code",
   "execution_count": 4,
   "metadata": {},
   "outputs": [
    {
     "data": {
      "text/plain": [
       "Text(0.5, 1.0, 'Histogram of class balance')"
      ]
     },
     "execution_count": 4,
     "metadata": {},
     "output_type": "execute_result"
    },
    {
     "data": {
      "image/png": "[encoded data removed]",
      "text/plain": [
       "<Figure size 432x288 with 1 Axes>"
      ]
     },
     "metadata": {
      "needs_background": "light"
     },
     "output_type": "display_data"
    }
   ],
   "source": [
    "plt.hist(y_train, bins='auto')\n",
    "plt.title(\"Histogram of class balance\")"
   ]
  },
  {
   "cell_type": "markdown",
   "metadata": {},
   "source": [
    "### 1.4 Discussion (4 points)\n",
    "Is the dataset balanced? What would happen if the dataset is not balanced in the context of image classification? "
   ]
  },
  {
   "cell_type": "markdown",
   "metadata": {},
   "source": [
    "yes, the dataset is perfectly balanced, if the data is not balanced, the algorithm will prefer to give output in favor of the majority class as it has more probability of getting correct by guessing in favor of the majority class. This will prevent the minority class from being predicted, and sometimes neglected."
   ]
  },
  {
   "cell_type": "markdown",
   "metadata": {},
   "source": [
    "## Question 2 (40 points)\n",
    "\n",
    "Build a neural network and train it with the Fashion-MNIST dataset. Here, we use the keras library, which is a high-level neural network library built upon tensorflow."
   ]
  },
  {
   "cell_type": "code",
   "execution_count": 5,
   "metadata": {},
   "outputs": [],
   "source": [
    "# Convert the label class into a one-hot representation\n",
    "from keras.layers.convolutional import Conv2D\n",
    "from keras.layers import Flatten, Dense, Reshape, MaxPool2D, Input, Activation, Dropout, BatchNormalization\n",
    "num_classes = 10\n",
    "y_train = keras.utils.to_categorical(y_train, num_classes)\n",
    "y_test = keras.utils.to_categorical(y_test, num_classes)"
   ]
  },
  {
   "cell_type": "code",
   "execution_count": 6,
   "metadata": {},
   "outputs": [
    {
     "data": {
      "text/plain": [
       "(60000, 784)"
      ]
     },
     "execution_count": 6,
     "metadata": {},
     "output_type": "execute_result"
    }
   ],
   "source": [
    "x_train.shape"
   ]
  },
  {
   "cell_type": "markdown",
   "metadata": {},
   "source": [
    "### 2.1 Build a multi-layer perceptron, also known as multi-layer fully connected network. You need to define the number of classes, the layers, the loss function, the optimiser and evaluation metric. (30 points)"
   ]
  },
  {
   "cell_type": "code",
   "execution_count": 7,
   "metadata": {},
   "outputs": [
    {
     "name": "stdout",
     "output_type": "stream",
     "text": [
      "_________________________________________________________________\n",
      "Layer (type)                 Output Shape              Param #   \n",
      "=================================================================\n",
      "dense_1 (Dense)              (None, 784)               615440    \n",
      "_________________________________________________________________\n",
      "batch_normalization_1 (Batch (None, 784)               3136      \n",
      "_________________________________________________________________\n",
      "activation_1 (Activation)    (None, 784)               0         \n",
      "_________________________________________________________________\n",
      "dense_2 (Dense)              (None, 1024)              803840    \n",
      "_________________________________________________________________\n",
      "dropout_1 (Dropout)          (None, 1024)              0         \n",
      "_________________________________________________________________\n",
      "dense_3 (Dense)              (None, 512)               524800    \n",
      "_________________________________________________________________\n",
      "dropout_2 (Dropout)          (None, 512)               0         \n",
      "_________________________________________________________________\n",
      "dense_4 (Dense)              (None, 256)               131328    \n",
      "_________________________________________________________________\n",
      "dropout_3 (Dropout)          (None, 256)               0         \n",
      "_________________________________________________________________\n",
      "dense_5 (Dense)              (None, 256)               65792     \n",
      "_________________________________________________________________\n",
      "dropout_4 (Dropout)          (None, 256)               0         \n",
      "_________________________________________________________________\n",
      "dense_6 (Dense)              (None, 128)               32896     \n",
      "_________________________________________________________________\n",
      "dropout_5 (Dropout)          (None, 128)               0         \n",
      "_________________________________________________________________\n",
      "dense_7 (Dense)              (None, 128)               16512     \n",
      "_________________________________________________________________\n",
      "dropout_6 (Dropout)          (None, 128)               0         \n",
      "_________________________________________________________________\n",
      "dense_8 (Dense)              (None, 64)                8256      \n",
      "_________________________________________________________________\n",
      "dropout_7 (Dropout)          (None, 64)                0         \n",
      "_________________________________________________________________\n",
      "dense_9 (Dense)              (None, 64)                4160      \n",
      "_________________________________________________________________\n",
      "dropout_8 (Dropout)          (None, 64)                0         \n",
      "_________________________________________________________________\n",
      "dense_10 (Dense)             (None, 32)                2080      \n",
      "_________________________________________________________________\n",
      "dropout_9 (Dropout)          (None, 32)                0         \n",
      "_________________________________________________________________\n",
      "dense_11 (Dense)             (None, 32)                1056      \n",
      "_________________________________________________________________\n",
      "dropout_10 (Dropout)         (None, 32)                0         \n",
      "_________________________________________________________________\n",
      "dense_12 (Dense)             (None, 16)                528       \n",
      "_________________________________________________________________\n",
      "dropout_11 (Dropout)         (None, 16)                0         \n",
      "_________________________________________________________________\n",
      "dense_13 (Dense)             (None, 16)                272       \n",
      "_________________________________________________________________\n",
      "dense_14 (Dense)             (None, 10)                170       \n",
      "_________________________________________________________________\n",
      "activation_2 (Activation)    (None, 10)                0         \n",
      "=================================================================\n",
      "Total params: 2,210,266\n",
      "Trainable params: 2,208,698\n",
      "Non-trainable params: 1,568\n",
      "_________________________________________________________________\n",
      "None\n"
     ]
    }
   ],
   "source": [
    "model = keras.models.Sequential()\n",
    "model.add(Dense(784,input_dim = 784))\n",
    "model.add(BatchNormalization())\n",
    "model.add(Activation('relu'))\n",
    "model.add(Dense(1024, activation = 'relu'))\n",
    "model.add(Dropout(0.2))\n",
    "model.add(Dense(512, activation = 'relu'))\n",
    "model.add(Dropout(0.2))\n",
    "model.add(Dense(256, activation = 'relu'))\n",
    "model.add(Dropout(0.2))\n",
    "model.add(Dense(256, activation = 'relu'))\n",
    "model.add(Dropout(0.2))\n",
    "model.add(Dense(128, activation = 'relu'))\n",
    "model.add(Dropout(0.2))\n",
    "model.add(Dense(128, activation = 'relu'))\n",
    "model.add(Dropout(0.2))\n",
    "model.add(Dense(64, activation = 'relu'))\n",
    "model.add(Dropout(0.2))\n",
    "model.add(Dense(64, activation = 'relu'))\n",
    "model.add(Dropout(0.2))\n",
    "model.add(Dense(32, activation = 'relu'))\n",
    "model.add(Dropout(0.2))\n",
    "model.add(Dense(32, activation = 'relu'))\n",
    "model.add(Dropout(0.2))\n",
    "model.add(Dense(16, activation = 'relu'))\n",
    "model.add(Dropout(0.2))\n",
    "model.add(Dense(16, activation = 'relu'))\n",
    "model.add(Dense(10))\n",
    "model.add(Activation(\"softmax\"))\n",
    "model.compile(loss=\"categorical_crossentropy\", optimizer=\"adam\", metrics=[\"acc\"])\n",
    "print(model.summary())"
   ]
  },
  {
   "cell_type": "markdown",
   "metadata": {},
   "source": [
    "### 2.2 Define the optimisation parameters including the batch size and the number of epochs and then run the optimiser. (10 points)\n",
    "\n",
    "We have tested that for an appropriate network architecture, on a personal laptop and with only CPU, it takes about a few seconds per epoch to train the network. For 100 epochs, it takes about a coffee break's time to finish the training. If you run it on a powerful GPU, it would be even much faster."
   ]
  },
  {
   "cell_type": "code",
   "execution_count": 8,
   "metadata": {
    "scrolled": true
   },
   "outputs": [
    {
     "name": "stdout",
     "output_type": "stream",
     "text": [
      "Train on 57000 samples, validate on 3000 samples\n",
      "Epoch 1/100\n",
      "57000/57000 [==============================] - 10s 180us/step - loss: 2.1819 - acc: 0.1572 - val_loss: 1.8106 - val_acc: 0.3350\n",
      "Epoch 2/100\n",
      "57000/57000 [==============================] - 5s 96us/step - loss: 1.8666 - acc: 0.2873 - val_loss: 1.4635 - val_acc: 0.5450\n",
      "Epoch 3/100\n",
      "57000/57000 [==============================] - 5s 96us/step - loss: 1.5396 - acc: 0.3969 - val_loss: 1.0881 - val_acc: 0.5527\n",
      "Epoch 4/100\n",
      "57000/57000 [==============================] - 5s 96us/step - loss: 1.3136 - acc: 0.4728 - val_loss: 0.9129 - val_acc: 0.6423\n",
      "Epoch 5/100\n",
      "57000/57000 [==============================] - 6s 97us/step - loss: 1.1390 - acc: 0.5269 - val_loss: 0.8138 - val_acc: 0.6557\n",
      "Epoch 6/100\n",
      "57000/57000 [==============================] - 6s 97us/step - loss: 1.0114 - acc: 0.5806 - val_loss: 0.7382 - val_acc: 0.6653\n",
      "Epoch 7/100\n",
      "57000/57000 [==============================] - 5s 95us/step - loss: 0.9191 - acc: 0.6222 - val_loss: 0.7807 - val_acc: 0.6927\n",
      "Epoch 8/100\n",
      "57000/57000 [==============================] - 5s 95us/step - loss: 0.8418 - acc: 0.6559 - val_loss: 0.7992 - val_acc: 0.7213\n",
      "Epoch 9/100\n",
      "57000/57000 [==============================] - 6s 97us/step - loss: 0.7899 - acc: 0.6804 - val_loss: 0.7977 - val_acc: 0.7483\n",
      "Epoch 10/100\n",
      "57000/57000 [==============================] - 5s 96us/step - loss: 0.7532 - acc: 0.7040 - val_loss: 0.6784 - val_acc: 0.7583\n",
      "Epoch 11/100\n",
      "57000/57000 [==============================] - 5s 96us/step - loss: 0.7175 - acc: 0.7299 - val_loss: 0.6122 - val_acc: 0.8003\n",
      "Epoch 12/100\n",
      "57000/57000 [==============================] - 6s 97us/step - loss: 0.6813 - acc: 0.7419 - val_loss: 0.6733 - val_acc: 0.7853\n",
      "Epoch 13/100\n",
      "57000/57000 [==============================] - 5s 96us/step - loss: 0.6579 - acc: 0.7587 - val_loss: 0.6050 - val_acc: 0.7987\n",
      "Epoch 14/100\n",
      "57000/57000 [==============================] - 5s 95us/step - loss: 0.6253 - acc: 0.7733 - val_loss: 0.7024 - val_acc: 0.7883\n",
      "Epoch 15/100\n",
      "57000/57000 [==============================] - 5s 95us/step - loss: 0.6220 - acc: 0.7770 - val_loss: 0.5794 - val_acc: 0.7940\n",
      "Epoch 16/100\n",
      "57000/57000 [==============================] - 5s 96us/step - loss: 0.5830 - acc: 0.7935 - val_loss: 0.5627 - val_acc: 0.8463\n",
      "Epoch 17/100\n",
      "57000/57000 [==============================] - 5s 95us/step - loss: 0.5636 - acc: 0.8052 - val_loss: 0.5907 - val_acc: 0.8193\n",
      "Epoch 18/100\n",
      "57000/57000 [==============================] - 5s 96us/step - loss: 0.5642 - acc: 0.8171 - val_loss: 0.6128 - val_acc: 0.8357\n",
      "Epoch 19/100\n",
      "57000/57000 [==============================] - 5s 96us/step - loss: 0.5574 - acc: 0.8286 - val_loss: 0.5512 - val_acc: 0.8270\n",
      "Epoch 20/100\n",
      "57000/57000 [==============================] - 5s 96us/step - loss: 0.5416 - acc: 0.8373 - val_loss: 0.5301 - val_acc: 0.8603\n",
      "Epoch 21/100\n",
      "57000/57000 [==============================] - 5s 96us/step - loss: 0.5116 - acc: 0.8490 - val_loss: 0.5493 - val_acc: 0.8597\n",
      "Epoch 22/100\n",
      "57000/57000 [==============================] - 5s 96us/step - loss: 0.4833 - acc: 0.8589 - val_loss: 0.5870 - val_acc: 0.8563\n",
      "Epoch 23/100\n",
      "57000/57000 [==============================] - 5s 96us/step - loss: 0.4674 - acc: 0.8652 - val_loss: 0.5875 - val_acc: 0.8667\n",
      "Epoch 24/100\n",
      "57000/57000 [==============================] - 5s 96us/step - loss: 0.4724 - acc: 0.8631 - val_loss: 0.5489 - val_acc: 0.8427\n",
      "Epoch 25/100\n",
      "57000/57000 [==============================] - 5s 96us/step - loss: 0.4631 - acc: 0.8663 - val_loss: 0.5191 - val_acc: 0.8707\n",
      "Epoch 26/100\n",
      "57000/57000 [==============================] - 5s 96us/step - loss: 0.4321 - acc: 0.8766 - val_loss: 0.5407 - val_acc: 0.8753\n",
      "Epoch 27/100\n",
      "57000/57000 [==============================] - 5s 96us/step - loss: 0.4228 - acc: 0.8824 - val_loss: 0.5172 - val_acc: 0.8667\n",
      "Epoch 28/100\n",
      "57000/57000 [==============================] - 5s 96us/step - loss: 0.4123 - acc: 0.8836 - val_loss: 0.6759 - val_acc: 0.8557\n",
      "Epoch 29/100\n",
      "57000/57000 [==============================] - 5s 96us/step - loss: 0.4304 - acc: 0.8812 - val_loss: 0.5430 - val_acc: 0.8720\n",
      "Epoch 30/100\n",
      "57000/57000 [==============================] - 5s 96us/step - loss: 0.4048 - acc: 0.8841 - val_loss: 0.5044 - val_acc: 0.8767\n",
      "Epoch 31/100\n",
      "57000/57000 [==============================] - 5s 96us/step - loss: 0.3968 - acc: 0.8866 - val_loss: 0.5628 - val_acc: 0.8497\n",
      "Epoch 32/100\n",
      "57000/57000 [==============================] - 5s 96us/step - loss: 0.3934 - acc: 0.8866 - val_loss: 0.6053 - val_acc: 0.8533\n",
      "Epoch 33/100\n",
      "57000/57000 [==============================] - 6s 97us/step - loss: 0.3619 - acc: 0.8974 - val_loss: 0.5163 - val_acc: 0.8743\n",
      "Epoch 34/100\n",
      "57000/57000 [==============================] - 5s 96us/step - loss: 0.3564 - acc: 0.8999 - val_loss: 0.5824 - val_acc: 0.8733\n",
      "Epoch 35/100\n",
      "57000/57000 [==============================] - 5s 96us/step - loss: 0.3899 - acc: 0.8898 - val_loss: 0.5798 - val_acc: 0.8440\n",
      "Epoch 36/100\n",
      "57000/57000 [==============================] - 5s 96us/step - loss: 0.3653 - acc: 0.8954 - val_loss: 0.5389 - val_acc: 0.8503\n",
      "Epoch 37/100\n",
      "57000/57000 [==============================] - 5s 96us/step - loss: 0.3496 - acc: 0.8998 - val_loss: 0.5492 - val_acc: 0.8617\n",
      "Epoch 38/100\n",
      "57000/57000 [==============================] - 5s 96us/step - loss: 0.3362 - acc: 0.9016 - val_loss: 0.5342 - val_acc: 0.8763\n",
      "Epoch 39/100\n",
      "57000/57000 [==============================] - 6s 97us/step - loss: 0.3323 - acc: 0.9054 - val_loss: 0.5490 - val_acc: 0.8640\n",
      "Epoch 40/100\n",
      "57000/57000 [==============================] - 5s 96us/step - loss: 0.3285 - acc: 0.9037 - val_loss: 0.5189 - val_acc: 0.8643\n",
      "Epoch 41/100\n",
      "57000/57000 [==============================] - 5s 96us/step - loss: 0.3246 - acc: 0.9086 - val_loss: 0.5323 - val_acc: 0.8853\n",
      "Epoch 42/100\n",
      "57000/57000 [==============================] - 6s 97us/step - loss: 0.3098 - acc: 0.9123 - val_loss: 0.5035 - val_acc: 0.8780\n",
      "Epoch 43/100\n",
      "57000/57000 [==============================] - 6s 97us/step - loss: 0.3143 - acc: 0.9121 - val_loss: 0.5010 - val_acc: 0.8807\n",
      "Epoch 44/100\n",
      "57000/57000 [==============================] - 5s 96us/step - loss: 0.3093 - acc: 0.9127 - val_loss: 0.5755 - val_acc: 0.8680\n",
      "Epoch 45/100\n",
      "57000/57000 [==============================] - 5s 96us/step - loss: 0.2906 - acc: 0.9173 - val_loss: 0.5195 - val_acc: 0.8480\n",
      "Epoch 46/100\n",
      "57000/57000 [==============================] - 5s 96us/step - loss: 0.2929 - acc: 0.9163 - val_loss: 0.5788 - val_acc: 0.8697\n",
      "Epoch 47/100\n",
      "57000/57000 [==============================] - 5s 96us/step - loss: 0.2950 - acc: 0.9155 - val_loss: 0.5590 - val_acc: 0.8773\n",
      "Epoch 48/100\n",
      "57000/57000 [==============================] - 5s 96us/step - loss: 0.2972 - acc: 0.9142 - val_loss: 0.5184 - val_acc: 0.8690\n",
      "Epoch 49/100\n",
      "57000/57000 [==============================] - 5s 96us/step - loss: 0.2880 - acc: 0.9185 - val_loss: 0.5292 - val_acc: 0.8810\n",
      "Epoch 50/100\n",
      "57000/57000 [==============================] - 5s 96us/step - loss: 0.2730 - acc: 0.9235 - val_loss: 0.5760 - val_acc: 0.8707\n",
      "Epoch 51/100\n",
      "57000/57000 [==============================] - 5s 96us/step - loss: 0.2845 - acc: 0.9197 - val_loss: 0.6442 - val_acc: 0.8747\n",
      "Epoch 52/100\n",
      "57000/57000 [==============================] - 5s 96us/step - loss: 0.2718 - acc: 0.9224 - val_loss: 0.5049 - val_acc: 0.8847\n",
      "Epoch 53/100\n",
      "57000/57000 [==============================] - 5s 96us/step - loss: 0.2958 - acc: 0.9149 - val_loss: 0.6010 - val_acc: 0.8293\n",
      "Epoch 54/100\n",
      "57000/57000 [==============================] - 6s 97us/step - loss: 0.2824 - acc: 0.9193 - val_loss: 0.5677 - val_acc: 0.8470\n",
      "Epoch 55/100\n",
      "57000/57000 [==============================] - 5s 96us/step - loss: 0.2791 - acc: 0.9197 - val_loss: 0.5339 - val_acc: 0.8463\n",
      "Epoch 56/100\n",
      "57000/57000 [==============================] - 5s 96us/step - loss: 0.2596 - acc: 0.9261 - val_loss: 0.5831 - val_acc: 0.8503\n",
      "Epoch 57/100\n",
      "57000/57000 [==============================] - 5s 95us/step - loss: 0.2580 - acc: 0.9268 - val_loss: 0.5632 - val_acc: 0.8613\n",
      "Epoch 58/100\n",
      "57000/57000 [==============================] - 5s 96us/step - loss: 0.2410 - acc: 0.9318 - val_loss: 0.5488 - val_acc: 0.8770\n",
      "Epoch 59/100\n"
     ]
    },
    {
     "name": "stdout",
     "output_type": "stream",
     "text": [
      "57000/57000 [==============================] - 5s 96us/step - loss: 0.2311 - acc: 0.9349 - val_loss: 0.6054 - val_acc: 0.8690\n",
      "Epoch 60/100\n",
      "57000/57000 [==============================] - 5s 96us/step - loss: 0.2273 - acc: 0.9355 - val_loss: 0.6027 - val_acc: 0.8757\n",
      "Epoch 61/100\n",
      "57000/57000 [==============================] - 5s 96us/step - loss: 0.2398 - acc: 0.9332 - val_loss: 0.6816 - val_acc: 0.8533\n",
      "Epoch 62/100\n",
      "57000/57000 [==============================] - 5s 96us/step - loss: 0.3021 - acc: 0.9165 - val_loss: 0.8468 - val_acc: 0.8030\n",
      "Epoch 63/100\n",
      "57000/57000 [==============================] - 5s 96us/step - loss: 0.3228 - acc: 0.9074 - val_loss: 0.8931 - val_acc: 0.7860\n",
      "Epoch 64/100\n",
      "57000/57000 [==============================] - 6s 97us/step - loss: 0.2878 - acc: 0.9186 - val_loss: 0.5981 - val_acc: 0.8543\n",
      "Epoch 65/100\n",
      "57000/57000 [==============================] - 6s 97us/step - loss: 0.2785 - acc: 0.9192 - val_loss: 0.5629 - val_acc: 0.8563\n",
      "Epoch 66/100\n",
      "57000/57000 [==============================] - 5s 96us/step - loss: 0.2545 - acc: 0.9257 - val_loss: 0.6330 - val_acc: 0.8420\n",
      "Epoch 67/100\n",
      "57000/57000 [==============================] - 5s 95us/step - loss: 0.2420 - acc: 0.9319 - val_loss: 0.6176 - val_acc: 0.8760\n",
      "Epoch 68/100\n",
      "57000/57000 [==============================] - 6s 97us/step - loss: 0.2277 - acc: 0.9339 - val_loss: 0.5094 - val_acc: 0.8790\n",
      "Epoch 69/100\n",
      "57000/57000 [==============================] - 5s 96us/step - loss: 0.2187 - acc: 0.9384 - val_loss: 0.6138 - val_acc: 0.8767\n",
      "Epoch 70/100\n",
      "57000/57000 [==============================] - 5s 96us/step - loss: 0.2193 - acc: 0.9360 - val_loss: 0.5339 - val_acc: 0.8860\n",
      "Epoch 71/100\n",
      "57000/57000 [==============================] - 5s 96us/step - loss: 0.2230 - acc: 0.9363 - val_loss: 0.5455 - val_acc: 0.8443\n",
      "Epoch 72/100\n",
      "57000/57000 [==============================] - 5s 96us/step - loss: 0.2319 - acc: 0.9337 - val_loss: 0.6071 - val_acc: 0.8903\n",
      "Epoch 73/100\n",
      "57000/57000 [==============================] - 5s 96us/step - loss: 0.2278 - acc: 0.9372 - val_loss: 0.6183 - val_acc: 0.8857\n",
      "Epoch 74/100\n",
      "57000/57000 [==============================] - 5s 96us/step - loss: 0.3208 - acc: 0.9183 - val_loss: 5.5340 - val_acc: 0.5000\n",
      "Epoch 75/100\n",
      "57000/57000 [==============================] - 5s 96us/step - loss: 0.3288 - acc: 0.9066 - val_loss: 2.6666 - val_acc: 0.6223\n",
      "Epoch 76/100\n",
      "57000/57000 [==============================] - 5s 96us/step - loss: 0.2767 - acc: 0.9238 - val_loss: 1.1727 - val_acc: 0.7890\n",
      "Epoch 77/100\n",
      "57000/57000 [==============================] - 5s 96us/step - loss: 0.2593 - acc: 0.9284 - val_loss: 0.9776 - val_acc: 0.8053\n",
      "Epoch 78/100\n",
      "57000/57000 [==============================] - 5s 96us/step - loss: 0.2397 - acc: 0.9351 - val_loss: 0.6902 - val_acc: 0.8440\n",
      "Epoch 79/100\n",
      "57000/57000 [==============================] - 5s 96us/step - loss: 0.2268 - acc: 0.9349 - val_loss: 0.8529 - val_acc: 0.8503\n",
      "Epoch 80/100\n",
      "57000/57000 [==============================] - 5s 96us/step - loss: 0.2092 - acc: 0.9414 - val_loss: 0.6700 - val_acc: 0.8763\n",
      "Epoch 81/100\n",
      "57000/57000 [==============================] - 5s 96us/step - loss: 0.2079 - acc: 0.9414 - val_loss: 0.6969 - val_acc: 0.8750\n",
      "Epoch 82/100\n",
      "57000/57000 [==============================] - 5s 96us/step - loss: 0.1982 - acc: 0.9457 - val_loss: 0.6204 - val_acc: 0.8857\n",
      "Epoch 83/100\n",
      "57000/57000 [==============================] - 5s 96us/step - loss: 0.1907 - acc: 0.9462 - val_loss: 0.5960 - val_acc: 0.8740\n",
      "Epoch 84/100\n",
      "57000/57000 [==============================] - 5s 96us/step - loss: 0.1843 - acc: 0.9465 - val_loss: 0.7554 - val_acc: 0.8760\n",
      "Epoch 85/100\n",
      "57000/57000 [==============================] - 5s 96us/step - loss: 0.1989 - acc: 0.9425 - val_loss: 0.5941 - val_acc: 0.8917\n",
      "Epoch 86/100\n",
      "57000/57000 [==============================] - 5s 96us/step - loss: 0.2000 - acc: 0.9448 - val_loss: 0.6955 - val_acc: 0.8660\n",
      "Epoch 87/100\n",
      "57000/57000 [==============================] - 6s 97us/step - loss: 0.2356 - acc: 0.9329 - val_loss: 0.7276 - val_acc: 0.8640\n",
      "Epoch 88/100\n",
      "57000/57000 [==============================] - 5s 96us/step - loss: 0.2264 - acc: 0.9352 - val_loss: 0.6261 - val_acc: 0.8507\n",
      "Epoch 89/100\n",
      "57000/57000 [==============================] - 5s 96us/step - loss: 0.2152 - acc: 0.9388 - val_loss: 0.5721 - val_acc: 0.8740\n",
      "Epoch 90/100\n",
      "57000/57000 [==============================] - 5s 96us/step - loss: 0.1937 - acc: 0.9431 - val_loss: 0.5460 - val_acc: 0.8917\n",
      "Epoch 91/100\n",
      "57000/57000 [==============================] - 5s 96us/step - loss: 0.1695 - acc: 0.9519 - val_loss: 0.6338 - val_acc: 0.8933\n",
      "Epoch 92/100\n",
      "57000/57000 [==============================] - 5s 96us/step - loss: 0.1776 - acc: 0.9503 - val_loss: 0.6232 - val_acc: 0.8963\n",
      "Epoch 93/100\n",
      "57000/57000 [==============================] - 5s 96us/step - loss: 0.1756 - acc: 0.9532 - val_loss: 0.6012 - val_acc: 0.8923\n",
      "Epoch 94/100\n",
      "57000/57000 [==============================] - 5s 96us/step - loss: 0.1679 - acc: 0.9546 - val_loss: 0.5505 - val_acc: 0.8897\n",
      "Epoch 95/100\n",
      "57000/57000 [==============================] - 5s 96us/step - loss: 0.1563 - acc: 0.9586 - val_loss: 0.6240 - val_acc: 0.8910\n",
      "Epoch 96/100\n",
      "57000/57000 [==============================] - 5s 96us/step - loss: 0.2246 - acc: 0.9429 - val_loss: 0.5717 - val_acc: 0.8797\n",
      "Epoch 97/100\n",
      "57000/57000 [==============================] - 5s 96us/step - loss: 0.2015 - acc: 0.9460 - val_loss: 0.5895 - val_acc: 0.8847\n",
      "Epoch 98/100\n",
      "57000/57000 [==============================] - 5s 96us/step - loss: 0.1766 - acc: 0.9526 - val_loss: 0.5636 - val_acc: 0.8777\n",
      "Epoch 99/100\n",
      "57000/57000 [==============================] - 5s 96us/step - loss: 0.1716 - acc: 0.9523 - val_loss: 0.5995 - val_acc: 0.8763\n",
      "Epoch 100/100\n",
      "57000/57000 [==============================] - 5s 96us/step - loss: 0.1772 - acc: 0.9536 - val_loss: 0.6351 - val_acc: 0.8887\n"
     ]
    },
    {
     "data": {
      "text/plain": [
       "<keras.callbacks.History at 0x7f9fe6932e80>"
      ]
     },
     "execution_count": 8,
     "metadata": {},
     "output_type": "execute_result"
    }
   ],
   "source": [
    "batch_size = 4096\n",
    "epochs = 100\n",
    "model.fit(x=x_train,y=y_train,batch_size=batch_size,epochs=epochs,validation_split=0.05)"
   ]
  },
  {
   "cell_type": "markdown",
   "metadata": {},
   "source": [
    "## Question 3 (20 points) \n",
    "\n",
    "Evaluate the performance of your network with the test data. \n",
    "Visualize the performance using appropriate metrics and graphs (eg. confusion matrix). \n",
    "Comment on your per class performance and how it could be better."
   ]
  },
  {
   "cell_type": "code",
   "execution_count": 9,
   "metadata": {},
   "outputs": [],
   "source": [
    "import itertools\n",
    "\n",
    "# This function is provided for you to display the confusion matrix.\n",
    "# For more information about the confusion matrix, you can read at\n",
    "# https://en.wikipedia.org/wiki/Confusion_matrix\n",
    "def plot_confusion_matrix(cm, classes, normalize=False, title='Confusion matrix', cmap=plt.cm.Blues):\n",
    "    \"\"\"\n",
    "        This function prints and plots the confusion matrix.\n",
    "        \n",
    "        cm: confusion matrix\n",
    "        classes: a list of the class labels or class names\n",
    "        normalize: normalize the matrix so that each row amounts to one\n",
    "        cmap: color map\n",
    "    \"\"\"\n",
    "    if normalize:\n",
    "        cm = cm.astype('float') / cm.sum(axis=1)[:, np.newaxis]\n",
    "        print(\"Normalized confusion matrix\")\n",
    "    else:\n",
    "        print('Confusion matrix, without normalization')\n",
    "    print(cm)\n",
    "\n",
    "    plt.imshow(cm, interpolation='nearest', cmap=cmap)\n",
    "    plt.title(title)\n",
    "    plt.colorbar()\n",
    "    tick_marks = np.arange(len(classes))\n",
    "    plt.xticks(tick_marks, classes, rotation=45)\n",
    "    plt.yticks(tick_marks, classes)\n",
    "\n",
    "    fmt = '.2f' if normalize else 'd'\n",
    "    thresh = cm.max() / 2.\n",
    "    for i, j in itertools.product(range(cm.shape[0]), range(cm.shape[1])):\n",
    "        plt.text(j, i, format(cm[i, j], fmt),\n",
    "                 horizontalalignment=\"center\",\n",
    "                 color=\"white\" if cm[i, j] > thresh else \"black\")\n",
    "    plt.ylabel('True label')\n",
    "    plt.xlabel('Predicted label')\n",
    "    plt.tight_layout()"
   ]
  },
  {
   "cell_type": "markdown",
   "metadata": {},
   "source": [
    "### 3.1 Evaluate the classification accuracy on the test set (10 points)"
   ]
  },
  {
   "cell_type": "code",
   "execution_count": 10,
   "metadata": {},
   "outputs": [
    {
     "name": "stdout",
     "output_type": "stream",
     "text": [
      "10000/10000 [==============================] - 1s 81us/step\n"
     ]
    },
    {
     "data": {
      "text/plain": [
       "[0.6537270777642726, 0.8801]"
      ]
     },
     "execution_count": 10,
     "metadata": {},
     "output_type": "execute_result"
    }
   ],
   "source": [
    "model.evaluate(x=x_test,y=y_test)"
   ]
  },
  {
   "cell_type": "markdown",
   "metadata": {},
   "source": [
    "### 3.2 Calculate and plot the confusion matrix (10 points)"
   ]
  },
  {
   "cell_type": "code",
   "execution_count": 11,
   "metadata": {},
   "outputs": [
    {
     "name": "stdout",
     "output_type": "stream",
     "text": [
      "Confusion matrix, without normalization\n",
      "[[851   1  16  15   0   0 133   0   4   0]\n",
      " [  0 959   0   3   0   0   0   0   0   0]\n",
      " [  4   0 748   1  69   0  45   0   1   0]\n",
      " [ 31  35  12 917  51   1  39   0   7   0]\n",
      " [  4   1 120  27 804   0  65   0   9   0]\n",
      " [  1   0   1   0   1 964   1  15   2  12]\n",
      " [104   3 102  35  74   0 714   0  26   1]\n",
      " [  1   0   1   0   0  21   0 975   9  60]\n",
      " [  4   1   0   2   1   1   3   0 942   0]\n",
      " [  0   0   0   0   0  13   0  10   0 927]]\n"
     ]
    },
    {
     "data": {
      "image/png": "[encoded data removed]",
      "text/plain": [
       "<Figure size 432x288 with 2 Axes>"
      ]
     },
     "metadata": {
      "needs_background": "light"
     },
     "output_type": "display_data"
    }
   ],
   "source": [
    "y_pred = model.predict(x_test)\n",
    "confusion_mat = np.zeros([10,10])\n",
    "\n",
    "for pred,true in zip(y_pred,y_test):\n",
    "    confusion_mat[pred.argmax(axis=0),true.argmax(axis=0)] += 1\n",
    "    \n",
    "plot_confusion_matrix(confusion_mat.astype(int),[0,1,2,3,4,5,6,7,8,9])"
   ]
  },
  {
   "cell_type": "markdown",
   "metadata": {},
   "source": [
    "## 3.3 Comment on the per class performance and how it could be better"
   ]
  },
  {
   "cell_type": "markdown",
   "metadata": {},
   "source": [
    "Overall, the model can perform quite well in the test dataset. Although the model struggle with class 6 and 2 the most. The confusion matrix shows that the model has high rate of misclassifying a class 4 (coat) as a class 2 (pull-over), class 6 (shirt) as a class 0 (T-shirt), and class 0 (T-shirt) as a class 6 (shirt). The model could be better of the model can distinguish these hard-to-classify classes better. There are several ways of doing so:\n",
    "\n",
    "1. Increase the number of training samples.\n",
    "2. For classes that have high error rate, we can train the model after it has been trained with the dataset with data that the model has misclassified as in boosting.\n",
    "3. Change the architecture of the model to be mor eaccurate in distinguishing these classes\n",
    "\n",
    "Other general methods are noted in question 4.3"
   ]
  },
  {
   "cell_type": "markdown",
   "metadata": {},
   "source": [
    "## Question 4 (20 points)\n",
    "Take two photos, one of your clothes or shoes that belongs to one of 10 classes, the other that does not belong to any class.\n",
    "\n",
    "Use either Python or other software (Photoshop, Gimp, or any image editer) to convert the photos into grayscale, crop the region of interest and reshape into the size of 28x28.\n",
    "\n",
    "### 4.1 Load and visualise your own images (6 points)"
   ]
  },
  {
   "cell_type": "code",
   "execution_count": 12,
   "metadata": {},
   "outputs": [
    {
     "data": {
      "image/png": "[encoded data removed]",
      "text/plain": [
       "<Figure size 432x288 with 1 Axes>"
      ]
     },
     "metadata": {
      "needs_background": "light"
     },
     "output_type": "display_data"
    },
    {
     "data": {
      "image/png": "[encoded data removed]",
      "text/plain": [
       "<Figure size 432x288 with 1 Axes>"
      ]
     },
     "metadata": {
      "needs_background": "light"
     },
     "output_type": "display_data"
    }
   ],
   "source": [
    "import cv2\n",
    "img_shoe = cv2.imread('shoe_test.jpg',0)\n",
    "plt.imshow(img_shoe)\n",
    "x_shoe = np.expand_dims(img_shoe.flatten(),axis=1).transpose()\n",
    "\n",
    "plt.figure()\n",
    "img_derp = cv2.imread('derp_test.jpg',0)\n",
    "plt.imshow(img_derp)\n",
    "x_derp = np.expand_dims(img_derp.flatten(),axis=1).transpose()"
   ]
  },
  {
   "cell_type": "code",
   "execution_count": 13,
   "metadata": {},
   "outputs": [
    {
     "data": {
      "text/plain": [
       "(1, 784)"
      ]
     },
     "execution_count": 13,
     "metadata": {},
     "output_type": "execute_result"
    }
   ],
   "source": [
    "x_shoe.shape"
   ]
  },
  {
   "cell_type": "markdown",
   "metadata": {},
   "source": [
    "### 4.2 Test your network on the two images and show the classification results (10 points)"
   ]
  },
  {
   "cell_type": "code",
   "execution_count": 14,
   "metadata": {},
   "outputs": [
    {
     "name": "stdout",
     "output_type": "stream",
     "text": [
      "[[2.0285325e-09 1.1428693e-13 5.6311794e-19 3.8038607e-13 2.1171403e-27\n",
      "  9.9999988e-01 7.1542289e-17 1.4009956e-07 2.0053141e-15 1.1486524e-08]]\n",
      "predicted class for sneaker= [5]\n",
      "\n",
      "[[2.01141932e-14 2.13652740e-32 2.33426280e-02 5.30470132e-26\n",
      "  1.46517944e-08 0.00000000e+00 6.87916815e-01 0.00000000e+00\n",
      "  2.88740575e-01 2.81394569e-32]]\n",
      "predicted class for irrelevant image= [6]\n"
     ]
    }
   ],
   "source": [
    "y_shoe = model.predict(x=x_shoe)\n",
    "pred_shoe = y_shoe.argmax(axis=1)\n",
    "print(y_shoe)\n",
    "print(\"predicted class for sneaker=\",pred_shoe)\n",
    "\n",
    "print('')\n",
    "\n",
    "y_derp = model.predict(x=x_derp)\n",
    "pred_derp = y_derp.argmax(axis=1)\n",
    "print(y_derp)\n",
    "print(\"predicted class for irrelevant image=\",pred_derp)"
   ]
  },
  {
   "cell_type": "markdown",
   "metadata": {},
   "source": [
    "### 4.3 Discuss the classification results and provide one method to improve real life performance of the network (4 points)"
   ]
  },
  {
   "cell_type": "markdown",
   "metadata": {},
   "source": [
    "The model perform well under the training data and the testing data, this is reflected from the confusion matrix where the model shows high values on the diagonal of the confusion matrix, meaning that the model can distinguish an image from a certain class, along side with low off-diagonal values meaning that the model have low probability of misclassifying an image into a wrong class. However, the model turns out to be unable to predict the image from the internet as it shows that it predicted an external image in the sneaker class (class 7) as a sandal (class 5) with the probability of 0.99 as shown by the softmax function. The model also displayed high confidence in predicting an external irrelevant image of a dog as a shirt (class 6) with the probability of 0.69, which in theory, it should have low probability of each class distributed into each class. I think the root cause of the problem is overfitting, since the training accuracy of the model after the 100th epoch is 95%, while the validation acucracy of the model is only at 88%.\n",
    "\n",
    "There are various ways that can be used to improve the model, which are as follow:\n",
    "1. Change the model architecture  into convolutional neural network. Instead of assigning a weight to each pixel, convolutional neural networks uses kernel to process the data, therefore the same weights are applied into different region of the image, this provides robustness to translation of the image as well as allowing the model to have less parameters, enabling deeper networks that can learn more abstractions from the image.\n",
    "2. Apply image augmentation to the dataset to enhance robustness of the model against rotation, translation, scaling, exposure, and image flipping.\n",
    "3. If the model is to be used to classify irrelevant images too, irrelevant images should also be used to train the model and the model should output 11 classes where the 11th class corresponds to irrelevant images\n",
    "4. Increase the number of training and testing data of the model to allow more complicated models which will be able to perform better than the current model.\n",
    "5. Train multiple models and use them together to predict the class of an image which is the concept of ensemble learning.\n",
    "6. Instead of training for 100 epoch, it will be better to use a callback function to monitor the validation loss and terminate the training process when the validation accuracy is no longer improved.\n",
    "7. Try out more neural network architectures and then select the best one for the task. \n",
    "8. For classes that have high error rate, such as class 6, judging from the confusion matrix, we can train the model after it has been trained with the dataset with data that the model has misclassified as in boosting."
   ]
  },
  {
   "cell_type": "markdown",
   "metadata": {},
   "source": [
    "## 5. Survey\n",
    "How long did the coursework take you to solve? "
   ]
  },
  {
   "cell_type": "markdown",
   "metadata": {},
   "source": []
  },
  {
   "cell_type": "markdown",
   "metadata": {},
   "source": [
    "3 hours"
   ]
  }
 ],
 "metadata": {
  "kernelspec": {
   "display_name": "Python 3",
   "language": "python",
   "name": "python3"
  },
  "language_info": {
   "codemirror_mode": {
    "name": "ipython",
    "version": 3
   },
   "file_extension": ".py",
   "mimetype": "text/x-python",
   "name": "python",
   "nbconvert_exporter": "python",
   "pygments_lexer": "ipython3",
   "version": "3.6.6"
  }
 },
 "nbformat": 4,
 "nbformat_minor": 2
}
